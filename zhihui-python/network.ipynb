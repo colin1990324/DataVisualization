{
 "cells": [
  {
   "cell_type": "code",
   "execution_count": 39,
   "metadata": {
    "collapsed": true
   },
   "outputs": [],
   "source": [
    "from zhihu import Question\n",
    "from zhihu import Answer\n",
    "from zhihu import User\n",
    "from zhihu import Collection\n",
    "from collections import defaultdict\n",
    "import json\n",
    "from random import randint\n",
    "import math"
   ]
  },
  {
   "cell_type": "code",
   "execution_count": 12,
   "metadata": {
    "collapsed": false,
    "scrolled": true
   },
   "outputs": [],
   "source": [
    "def write_file(users, questions, answering, asking):\n",
    "\n",
    "    with open('network_templete.json', 'r') as f:\n",
    "        graph = json.load(f)\n",
    "\n",
    "    graph['nodes'].extend(users)\n",
    "    graph['nodes'].extend(questions)\n",
    "\n",
    "    graph['links'].extend(answering)\n",
    "    graph['links'].extend(asking)\n",
    "\n",
    "    with open('network.json', 'w') as outfile:\n",
    "        json.dump(graph, outfile)"
   ]
  },
  {
   "cell_type": "code",
   "execution_count": 33,
   "metadata": {
    "collapsed": true
   },
   "outputs": [],
   "source": [
    "lines = [line.rstrip('\\n') for line in open(\"users_example.txt\")]"
   ]
  },
  {
   "cell_type": "code",
   "execution_count": 34,
   "metadata": {
    "collapsed": false
   },
   "outputs": [],
   "source": [
    "users = [User(user_url) for user_url in lines]\n",
    "user_ids = [user.get_user_id() for user in users]\n",
    "for user_id in user_ids:\n",
    "    print \"user node: \" + user_id"
   ]
  },
  {
   "cell_type": "code",
   "execution_count": 35,
   "metadata": {
    "collapsed": true
   },
   "outputs": [],
   "source": [
    "answers = []\n",
    "answerings = []\n",
    "questions = defaultdict(int)\n",
    "for user in users:\n",
    "    print \"processing answers of user: \" + user.get_user_id()\n",
    "    answer = list(user.get_answers())\n",
    "    answers.extend(answer)\n",
    "    for a in answer:\n",
    "        answerings.append((user.get_user_id(), a))\n",
    "        questions[a.get_question().get_title()] += 1\n",
    "\n",
    "print \"number of answers: \" + str(len(answers))\n",
    "print \"number of answerings: \" + str(len(answerings))"
   ]
  },
  {
   "cell_type": "code",
   "execution_count": 36,
   "metadata": {
    "collapsed": true
   },
   "outputs": [],
   "source": [
    "asking = []\n",
    "for user in users:\n",
    "    print \"processing questions of user: \" + user.get_user_id()\n",
    "    asks = list(user.get_asks())\n",
    "    for ask in asks:\n",
    "        asking.append((user.get_user_id(), ask.get_title()))\n",
    "        questions[ask.get_title()] += 1\n",
    "\n",
    "print \"number of asking: \" + str(len(asking))"
   ]
  },
  {
   "cell_type": "code",
   "execution_count": 37,
   "metadata": {
    "collapsed": true
   },
   "outputs": [],
   "source": [
    "questions = { k:v for (k,v) in questions.iteritems() if v > 1 }\n",
    "for question, num in questions.iteritems():\n",
    "    print \"question: \" + question + \" is mentioned \" + str(num) + \" times.\""
   ]
  },
  {
   "cell_type": "code",
   "execution_count": 57,
   "metadata": {
    "collapsed": false
   },
   "outputs": [],
   "source": [
    "id_map = {}\n",
    "index = 0\n",
    "usersOut = []\n",
    "for user in users:\n",
    "    id_map[user.get_user_id()] = index\n",
    "    usero = {}\n",
    "    usero['id'] = index\n",
    "    usero['Year'] = index\n",
    "    usero['cYear'] = index\n",
    "    usero['Type'] = 'User'\n",
    "    usero['label'] = user.get_user_id()\n",
    "    follower_num = user.get_followers_num()\n",
    "    usero['follower_num'] = follower_num\n",
    "    if follower_num < 1:\n",
    "        usero['size'] = 1\n",
    "    else:\n",
    "        usero['size'] = math.ceil(math.log(follower_num))\n",
    "    usero['url'] = user.user_url\n",
    "    usersOut.append(usero)\n",
    "    index += 1\n",
    "\n",
    "questionOut = []\n",
    "for question, v in questions.iteritems():\n",
    "    id_map[question] = index\n",
    "    questiono = {}\n",
    "    questiono['id'] = index\n",
    "    questiono['Year'] = randint(1, index)\n",
    "    questiono['cYear'] = questiono['Year']\n",
    "    questiono['Type'] = 'Question'\n",
    "    questiono['label'] = question\n",
    "    questionOut.append(questiono)\n",
    "    index += 1\n",
    "\n",
    "askOut = []\n",
    "for ask in asking:\n",
    "    if ask[1] in questions:\n",
    "        asko = {}\n",
    "        asko['Edge Id'] = str(index)\n",
    "        asko['target'] = id_map[ask[1]]\n",
    "        asko['source'] = id_map[ask[0]]\n",
    "        asko['Year'] = id_map[ask[1]]\n",
    "        askOut.append(asko)\n",
    "        index += 1\n",
    "\n",
    "answerOut = []\n",
    "for answering in answerings:\n",
    "    title = answering[1].get_question().get_title()\n",
    "    if title in questions:\n",
    "        answero = {}\n",
    "        answero['Edge Id'] = str(index)\n",
    "        answero['target'] = id_map[title]\n",
    "        answero['source'] = id_map[answering[0]]\n",
    "        answero['Year'] = id_map[title]\n",
    "        answerOut.append(answero)\n",
    "        index += 1\n",
    "\n",
    "write_file(usersOut,questionOut,askOut,answerOut)"
   ]
  },
  {
   "cell_type": "code",
   "execution_count": null,
   "metadata": {
    "collapsed": true
   },
   "outputs": [],
   "source": []
  }
 ],
 "metadata": {
  "kernelspec": {
   "display_name": "Python 2",
   "language": "python",
   "name": "python2"
  },
  "language_info": {
   "codemirror_mode": {
    "name": "ipython",
    "version": 2
   },
   "file_extension": ".py",
   "mimetype": "text/x-python",
   "name": "python",
   "nbconvert_exporter": "python",
   "pygments_lexer": "ipython2",
   "version": "2.7.6"
  }
 },
 "nbformat": 4,
 "nbformat_minor": 0
}
